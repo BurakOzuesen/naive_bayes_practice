{
 "cells": [
  {
   "cell_type": "markdown",
   "metadata": {},
   "source": [
    "# BBM409: Introduction to Machine Learning Laboratory\n",
    "## Assignment 3: Naive Bayes"
   ]
  },
  {
   "cell_type": "markdown",
   "metadata": {},
   "source": [
    "## Atakan Yüksel 21627892\n",
    "## Burak Özüesen 21827761"
   ]
  },
  {
   "cell_type": "markdown",
   "metadata": {},
   "source": [
    "## Pre-processing"
   ]
  },
  {
   "cell_type": "code",
   "execution_count": 1,
   "metadata": {},
   "outputs": [],
   "source": [
    "import pandas as pd\n",
    "import numpy as np"
   ]
  },
  {
   "cell_type": "code",
   "execution_count": 2,
   "metadata": {},
   "outputs": [
    {
     "data": {
      "text/html": [
       "<div>\n",
       "<style scoped>\n",
       "    .dataframe tbody tr th:only-of-type {\n",
       "        vertical-align: middle;\n",
       "    }\n",
       "\n",
       "    .dataframe tbody tr th {\n",
       "        vertical-align: top;\n",
       "    }\n",
       "\n",
       "    .dataframe thead th {\n",
       "        text-align: right;\n",
       "    }\n",
       "</style>\n",
       "<table border=\"1\" class=\"dataframe\">\n",
       "  <thead>\n",
       "    <tr style=\"text-align: right;\">\n",
       "      <th></th>\n",
       "      <th>text</th>\n",
       "      <th>spam</th>\n",
       "    </tr>\n",
       "  </thead>\n",
       "  <tbody>\n",
       "    <tr>\n",
       "      <th>0</th>\n",
       "      <td>Subject: naturally irresistible your corporate...</td>\n",
       "      <td>1</td>\n",
       "    </tr>\n",
       "    <tr>\n",
       "      <th>1</th>\n",
       "      <td>Subject: the stock trading gunslinger  fanny i...</td>\n",
       "      <td>1</td>\n",
       "    </tr>\n",
       "    <tr>\n",
       "      <th>2</th>\n",
       "      <td>Subject: unbelievable new homes made easy  im ...</td>\n",
       "      <td>1</td>\n",
       "    </tr>\n",
       "  </tbody>\n",
       "</table>\n",
       "</div>"
      ],
      "text/plain": [
       "                                                text  spam\n",
       "0  Subject: naturally irresistible your corporate...     1\n",
       "1  Subject: the stock trading gunslinger  fanny i...     1\n",
       "2  Subject: unbelievable new homes made easy  im ...     1"
      ]
     },
     "execution_count": 2,
     "metadata": {},
     "output_type": "execute_result"
    }
   ],
   "source": [
    "df = pd.read_csv(\"./data/emails.csv\")\n",
    "df.head(3)"
   ]
  },
  {
   "cell_type": "code",
   "execution_count": 3,
   "metadata": {},
   "outputs": [
    {
     "data": {
      "text/plain": [
       "text      object\n",
       "spam    category\n",
       "dtype: object"
      ]
     },
     "execution_count": 3,
     "metadata": {},
     "output_type": "execute_result"
    }
   ],
   "source": [
    "df[\"spam\"] = df[\"spam\"].astype(\"category\")\n",
    "df.dtypes"
   ]
  },
  {
   "cell_type": "code",
   "execution_count": 4,
   "metadata": {},
   "outputs": [
    {
     "data": {
      "text/plain": [
       "0    4360\n",
       "1    1368\n",
       "Name: spam, dtype: int64"
      ]
     },
     "execution_count": 4,
     "metadata": {},
     "output_type": "execute_result"
    }
   ],
   "source": [
    "df[\"spam\"].value_counts()"
   ]
  },
  {
   "cell_type": "code",
   "execution_count": 5,
   "metadata": {},
   "outputs": [
    {
     "data": {
      "text/html": [
       "<div>\n",
       "<style scoped>\n",
       "    .dataframe tbody tr th:only-of-type {\n",
       "        vertical-align: middle;\n",
       "    }\n",
       "\n",
       "    .dataframe tbody tr th {\n",
       "        vertical-align: top;\n",
       "    }\n",
       "\n",
       "    .dataframe thead th {\n",
       "        text-align: right;\n",
       "    }\n",
       "</style>\n",
       "<table border=\"1\" class=\"dataframe\">\n",
       "  <thead>\n",
       "    <tr style=\"text-align: right;\">\n",
       "      <th></th>\n",
       "      <th>text</th>\n",
       "      <th>spam</th>\n",
       "    </tr>\n",
       "  </thead>\n",
       "  <tbody>\n",
       "    <tr>\n",
       "      <th>0</th>\n",
       "      <td>naturally irresistible your corporate identity...</td>\n",
       "      <td>1</td>\n",
       "    </tr>\n",
       "    <tr>\n",
       "      <th>1</th>\n",
       "      <td>the stock trading gunslinger  fanny is merrill...</td>\n",
       "      <td>1</td>\n",
       "    </tr>\n",
       "    <tr>\n",
       "      <th>2</th>\n",
       "      <td>unbelievable new homes made easy  im wanting t...</td>\n",
       "      <td>1</td>\n",
       "    </tr>\n",
       "  </tbody>\n",
       "</table>\n",
       "</div>"
      ],
      "text/plain": [
       "                                                text spam\n",
       "0  naturally irresistible your corporate identity...    1\n",
       "1  the stock trading gunslinger  fanny is merrill...    1\n",
       "2  unbelievable new homes made easy  im wanting t...    1"
      ]
     },
     "execution_count": 5,
     "metadata": {},
     "output_type": "execute_result"
    }
   ],
   "source": [
    "df[\"text\"] = df[\"text\"].apply(lambda x: x[9:]) # remove 'Subject: ' from every text\n",
    "df[\"text\"] = df[\"text\"].str.replace(r'[^\\w\\s]+', '') # remove punctuation\n",
    "df[\"text\"] = df[\"text\"].apply(lambda x: x.lower()) # lowercase all characters\n",
    "\n",
    "df.head(3)"
   ]
  },
  {
   "cell_type": "code",
   "execution_count": 6,
   "metadata": {},
   "outputs": [],
   "source": [
    "from sklearn.model_selection import train_test_split\n",
    "X_train, X_test, y_train, y_test = train_test_split(df[\"text\"], df[\"spam\"], test_size=0.2, shuffle=True, stratify=df[\"spam\"], random_state=42)\n",
    "\n",
    "train_df = pd.DataFrame()\n",
    "train_df[\"text\"] = X_train\n",
    "train_df[\"spam\"] = y_train\n",
    "\n",
    "test_df = pd.DataFrame()\n",
    "test_df[\"text\"] = X_test\n",
    "test_df[\"spam\"] = y_test"
   ]
  },
  {
   "cell_type": "markdown",
   "metadata": {},
   "source": [
    "## Bag-of-Words Implementation"
   ]
  },
  {
   "cell_type": "code",
   "execution_count": 7,
   "metadata": {},
   "outputs": [],
   "source": [
    "from sklearn.feature_extraction.text import ENGLISH_STOP_WORDS\n",
    "\n",
    "def build_bag_of_words(df, gram=\"unigram\", filter_stopwords=False):\n",
    "    bow = {}\n",
    "    for item in df.tolist():\n",
    "        tokens = item.split()\n",
    "        if gram == \"unigram\":\n",
    "            for token in tokens:\n",
    "                if filter_stopwords: # remove stopwords\n",
    "                    if token not in ENGLISH_STOP_WORDS:\n",
    "                        try:\n",
    "                            bow[token] += 1\n",
    "                        except KeyError:\n",
    "                            bow[token] = 1\n",
    "                            continue\n",
    "                else: # ignore stopwords\n",
    "                    try:\n",
    "                        bow[token] += 1\n",
    "                    except KeyError:\n",
    "                        bow[token] = 1\n",
    "                        continue\n",
    "        elif gram == \"bigram\":\n",
    "            for idx, token in enumerate(tokens):\n",
    "                try:\n",
    "                    if filter_stopwords:\n",
    "                        if token not in ENGLISH_STOP_WORDS and tokens[idx + 1] not in ENGLISH_STOP_WORDS:\n",
    "                            bigram = token + \" \" + tokens[idx + 1]\n",
    "                            try:\n",
    "                                bow[bigram] += 1\n",
    "                            except KeyError:\n",
    "                                bow[bigram] = 1\n",
    "                                continue\n",
    "                    else:\n",
    "                        bigram = token + \" \" + tokens[idx + 1]\n",
    "                        try:\n",
    "                            bow[bigram] += 1\n",
    "                        except KeyError:\n",
    "                            bow[bigram] = 1\n",
    "                            continue\n",
    "                except IndexError:\n",
    "                    break\n",
    "    return dict(sorted(bow.items(), reverse=True, key=lambda x: x[1]))"
   ]
  },
  {
   "cell_type": "markdown",
   "metadata": {},
   "source": [
    "## Term Frequency - Inverse Document Frequency"
   ]
  },
  {
   "cell_type": "code",
   "execution_count": 8,
   "metadata": {},
   "outputs": [],
   "source": [
    "def term_frequency(term, document): # frequency of a word in a sentence\n",
    "    return document.count(term) / len(document)"
   ]
  },
  {
   "cell_type": "code",
   "execution_count": 9,
   "metadata": {},
   "outputs": [],
   "source": [
    "from math import log # natural logarithm\n",
    "\n",
    "\n",
    "def inverse_document_frequency(df):\n",
    "    idf = {}\n",
    "    for item in df.tolist():\n",
    "        tokens = item.split()\n",
    "        for token in list(set(tokens)): # set(tokens) makes sure that every word appears only once.\n",
    "            try:\n",
    "                idf[token] += 1\n",
    "            except KeyError: # first time encounter with the word\n",
    "                idf[token] = 1\n",
    "    for key in idf:\n",
    "        idf[key] = log(len(df.tolist()) / idf[key]) # idf formula\n",
    "    return dict(sorted(idf.items(), reverse=True, key=lambda x: x[1]))"
   ]
  },
  {
   "cell_type": "markdown",
   "metadata": {},
   "source": [
    "## Part 1"
   ]
  },
  {
   "cell_type": "markdown",
   "metadata": {},
   "source": [
    "Classification using words that appear in the text is more than feasible and the main use case of Naive Bayes. The other alternative is to use Deep Learning or NLP models, which are way more computationally expensive. Below are 3 examples for both ham and spam mails. Note that stop words were removed."
   ]
  },
  {
   "cell_type": "markdown",
   "metadata": {},
   "source": [
    "3 words that appear the most on ham mails:"
   ]
  },
  {
   "cell_type": "code",
   "execution_count": 10,
   "metadata": {},
   "outputs": [
    {
     "name": "stdout",
     "output_type": "stream",
     "text": [
      "Word: 'enron', appears 13382 times.\n",
      "Word: 'ect', appears 11417 times.\n",
      "Word: 'vince', appears 8531 times.\n"
     ]
    }
   ],
   "source": [
    "ham_bow = build_bag_of_words((df[df[\"spam\"] == 0])[\"text\"], filter_stopwords=True)\n",
    "\n",
    "for word in list(ham_bow)[:3]:\n",
    "    print(\"Word: '{}', appears {} times.\".format(word, ham_bow[word]))"
   ]
  },
  {
   "cell_type": "markdown",
   "metadata": {},
   "source": [
    "3 words that appear the most on spam mails:"
   ]
  },
  {
   "cell_type": "code",
   "execution_count": 11,
   "metadata": {},
   "outputs": [
    {
     "name": "stdout",
     "output_type": "stream",
     "text": [
      "Word: '_', appears 13556 times.\n",
      "Word: 's', appears 1333 times.\n",
      "Word: 'com', appears 998 times.\n"
     ]
    }
   ],
   "source": [
    "spam_bow = build_bag_of_words((df[df[\"spam\"] == 1])[\"text\"], filter_stopwords=True)\n",
    "\n",
    "for word in list(spam_bow)[:3]:\n",
    "    print(\"Word: '{}', appears {} times.\".format(word, spam_bow[word]))"
   ]
  },
  {
   "cell_type": "markdown",
   "metadata": {},
   "source": [
    "## Part 2"
   ]
  },
  {
   "cell_type": "markdown",
   "metadata": {},
   "source": [
    "Classification using Unigram BoW has much better accuracy than Bigram BoW. Note that stopwords were not filtered in both cases. Stopword effect will be examined in Part 3 and Part 4."
   ]
  },
  {
   "cell_type": "code",
   "execution_count": 12,
   "metadata": {},
   "outputs": [],
   "source": [
    "from sklearn.metrics import  classification_report"
   ]
  },
  {
   "cell_type": "markdown",
   "metadata": {},
   "source": [
    "### Naive Bayes Implementation"
   ]
  },
  {
   "cell_type": "code",
   "execution_count": 13,
   "metadata": {},
   "outputs": [],
   "source": [
    "from math import log10\n",
    "from sklearn.feature_extraction.text import CountVectorizer\n",
    "\n",
    "def naive_bayes(train_df, test_df, gram=\"unigram\", filter_stopwords=False, tfidf=False):\n",
    "    ham_series = (train_df[train_df[\"spam\"] == 0])[\"text\"] # pandas series with ham mails\n",
    "    spam_series = (train_df[train_df[\"spam\"] == 1])[\"text\"] # pandas series with spam mails\n",
    "\n",
    "    ham_bow = build_bag_of_words(ham_series, gram=gram, filter_stopwords=filter_stopwords) # ham mail bow\n",
    "    spam_bow = build_bag_of_words(spam_series, gram=gram, filter_stopwords=filter_stopwords) # spam mail bow\n",
    "\n",
    "    p_ham = train_df[\"spam\"].value_counts()[0] / sum(train_df[\"spam\"].value_counts()) # naive bayes rule, first term is percentage of the class to predict\n",
    "    p_spam = train_df[\"spam\"].value_counts()[1] / sum(train_df[\"spam\"].value_counts()) # naive bayes rule, first term is percentage of the class to predict\n",
    "\n",
    "    ham_idf = inverse_document_frequency(ham_series) # IDF dictionary that contains idf values for ham mail words\n",
    "    spam_idf = inverse_document_frequency(spam_series) # IDF dictionary that contains idf values for spam mail words\n",
    "\n",
    "\n",
    "    y_pred = []\n",
    "\n",
    "    for idx, row in test_df.iterrows(): # for every row on test_df\n",
    "        # tokens = row[\"text\"].split()\n",
    "        bigrams = []\n",
    "        \n",
    "        if gram == \"unigram\":\n",
    "            tokens = row[\"text\"].split()\n",
    "        \n",
    "        else:\n",
    "            tokens = row[\"text\"].split()\n",
    "            for i in range(len(tokens)-1):\n",
    "                bigrams.append(tokens[i] + \" \" + tokens[i+1])\n",
    "            tokens = bigrams\n",
    "        \n",
    "        log_total = [log10(p_ham), log10(p_spam)] # log_total[0] is ham, log_total[1] is spam\n",
    "       \n",
    "        if not tfidf:\n",
    "            for i in tokens: # ham\n",
    "                try:\n",
    "                    log_total[0] += log10(ham_bow[i]/len(ham_bow)) # how many times the word appeared divided by length of the ham corpus\n",
    "                except KeyError: # need laplace smoothing\n",
    "                    log_total[0] += log10(1/(len(ham_bow) + len(tokens)))\n",
    "                    continue\n",
    "            for i in tokens: # spam\n",
    "                try:\n",
    "                    log_total[1] += log10(spam_bow[i]/len(spam_bow)) # how many times the word appeared divided by length of the spam corpus\n",
    "                except KeyError: # need laplace smoothing\n",
    "                    log_total[1] += log10(1/(len(spam_bow) + len(tokens)))\n",
    "                    continue\n",
    "            y_pred.append(np.argmax(log_total)) # returns the index of the larger value. 0 for ham and 1 for spam.\n",
    "        else: # tfidf\n",
    "            for token in tokens: # ham\n",
    "                try:\n",
    "                    log_total[0] += log10((term_frequency(token, tokens) * ham_idf[token] * ham_bow[token]) / len(ham_bow)) # Term Frequency * Inverse Document Frequency\n",
    "                except KeyError: # need laplace smoothing\n",
    "                    log_total[0] += log10(1/(len(ham_bow) + len(tokens)))\n",
    "                    continue\n",
    "            for token in tokens: # spam\n",
    "                try:\n",
    "                    log_total[1] += log10((term_frequency(token, tokens) * spam_idf[token] * spam_bow[token]) / len(spam_bow)) # Term Frequency * Inverse Document Frequency\n",
    "                except KeyError:  # need laplace smoothing\n",
    "                    log_total[1] += log10(1/(len(spam_bow) + len(tokens)))\n",
    "                    continue\n",
    "            y_pred.append(np.argmax(log_total))\n",
    "        \n",
    "    return y_pred"
   ]
  },
  {
   "cell_type": "markdown",
   "metadata": {},
   "source": [
    "### Classification using Unigram BoW"
   ]
  },
  {
   "cell_type": "markdown",
   "metadata": {},
   "source": [
    "Classification using Unigram BoW without removing stopwords has 84% accuracy."
   ]
  },
  {
   "cell_type": "code",
   "execution_count": 14,
   "metadata": {},
   "outputs": [
    {
     "name": "stdout",
     "output_type": "stream",
     "text": [
      "              precision    recall  f1-score   support\n",
      "\n",
      "           0       0.82      1.00      0.90       872\n",
      "           1       1.00      0.32      0.49       274\n",
      "\n",
      "    accuracy                           0.84      1146\n",
      "   macro avg       0.91      0.66      0.69      1146\n",
      "weighted avg       0.87      0.84      0.80      1146\n",
      "\n"
     ]
    }
   ],
   "source": [
    "unigram_y_pred = naive_bayes(train_df, test_df)\n",
    "print(classification_report(y_test, unigram_y_pred))"
   ]
  },
  {
   "cell_type": "markdown",
   "metadata": {},
   "source": [
    "### Classification using Bigram BoW"
   ]
  },
  {
   "cell_type": "markdown",
   "metadata": {},
   "source": [
    "Classification using Bigram BoW without removing stopwords has 24% accuracy."
   ]
  },
  {
   "cell_type": "code",
   "execution_count": 15,
   "metadata": {},
   "outputs": [
    {
     "name": "stdout",
     "output_type": "stream",
     "text": [
      "              precision    recall  f1-score   support\n",
      "\n",
      "           0       1.00      0.90      0.95       872\n",
      "           1       0.75      1.00      0.86       274\n",
      "\n",
      "    accuracy                           0.92      1146\n",
      "   macro avg       0.88      0.95      0.90      1146\n",
      "weighted avg       0.94      0.92      0.93      1146\n",
      "\n"
     ]
    }
   ],
   "source": [
    "bigram_y_pred = naive_bayes(train_df, test_df, gram=\"bigram\")\n",
    "print(classification_report(y_test, bigram_y_pred))"
   ]
  },
  {
   "cell_type": "code",
   "execution_count": 16,
   "metadata": {},
   "outputs": [
    {
     "name": "stdout",
     "output_type": "stream",
     "text": [
      "0    1058\n",
      "1      88\n",
      "dtype: int64\n",
      "0    783\n",
      "1    363\n",
      "dtype: int64\n",
      "0    872\n",
      "1    274\n",
      "Name: spam, dtype: int64\n",
      "0    3488\n",
      "1    1094\n",
      "Name: spam, dtype: int64\n"
     ]
    },
    {
     "data": {
      "text/plain": [
       "0    872\n",
       "1    274\n",
       "Name: spam, dtype: int64"
      ]
     },
     "execution_count": 16,
     "metadata": {},
     "output_type": "execute_result"
    }
   ],
   "source": [
    "bigram_y_pred = pd.DataFrame(bigram_y_pred)\n",
    "print(pd.DataFrame(unigram_y_pred).value_counts())\n",
    "print(bigram_y_pred.value_counts())\n",
    "print(test_df[\"spam\"].value_counts())\n",
    "print(train_df[\"spam\"].value_counts())\n",
    "y_test.value_counts()"
   ]
  },
  {
   "cell_type": "markdown",
   "metadata": {},
   "source": [
    "## Part 3"
   ]
  },
  {
   "cell_type": "code",
   "execution_count": 17,
   "metadata": {},
   "outputs": [],
   "source": [
    "ham_bow = build_bag_of_words((df[df[\"spam\"] == 0])[\"text\"])\n",
    "spam_bow = build_bag_of_words((df[df[\"spam\"] == 1])[\"text\"])\n",
    "\n",
    "ham_bow_without_stopwords = build_bag_of_words((df[df[\"spam\"] == 0])[\"text\"], filter_stopwords=True)\n",
    "spam_bow_without_stopwords = build_bag_of_words((df[df[\"spam\"] == 1])[\"text\"], filter_stopwords=True)"
   ]
  },
  {
   "cell_type": "markdown",
   "metadata": {},
   "source": [
    "### (a) Analyzing effect of the words on prediction"
   ]
  },
  {
   "cell_type": "markdown",
   "metadata": {},
   "source": [
    "#### 1. List the 10 words whose presence most strongly predicts that the mail is ham."
   ]
  },
  {
   "cell_type": "code",
   "execution_count": 18,
   "metadata": {},
   "outputs": [
    {
     "name": "stdout",
     "output_type": "stream",
     "text": [
      "Word: 'the', appears 41135 times.\n",
      "Word: 'to', appears 33571 times.\n",
      "Word: 'and', appears 20961 times.\n",
      "Word: 'of', appears 18128 times.\n",
      "Word: 'i', appears 15649 times.\n",
      "Word: 'a', appears 15250 times.\n",
      "Word: 'you', appears 14234 times.\n",
      "Word: 'in', appears 14096 times.\n",
      "Word: 'for', appears 13510 times.\n",
      "Word: 'enron', appears 13382 times.\n"
     ]
    }
   ],
   "source": [
    "for word in list(ham_bow)[:10]:\n",
    "    print(\"Word: '{}', appears {} times.\".format(word, ham_bow[word]))"
   ]
  },
  {
   "cell_type": "markdown",
   "metadata": {},
   "source": [
    "#### 2. List the 10 words whose absence most strongly predicts that the mail is ham."
   ]
  },
  {
   "cell_type": "code",
   "execution_count": 19,
   "metadata": {},
   "outputs": [
    {
     "name": "stdout",
     "output_type": "stream",
     "text": [
      "Word: '_', appears 9878 times.\n",
      "Word: 'money', appears 549 times.\n",
      "Word: 'adobe', appears 448 times.\n",
      "Word: '2005', appears 369 times.\n",
      "Word: 'click', appears 331 times.\n",
      "Word: 'statements', appears 295 times.\n",
      "Word: 'website', appears 281 times.\n",
      "Word: 'life', appears 240 times.\n",
      "Word: 'save', appears 220 times.\n",
      "Word: 'account', appears 193 times.\n"
     ]
    }
   ],
   "source": [
    "spam_absence = {}\n",
    "for i in spam_bow:\n",
    "    try:\n",
    "        spam_absence[i] = spam_bow[i] - ham_bow[i] # words with the highest occurance in spam_bow and lowest occurance in ham_bow\n",
    "    except KeyError: # word does not exist in spam_bow and ham_bow at the same time\n",
    "        try: # word still may exist in spam_bow\n",
    "            spam_absence[i] = spam_bow[i]\n",
    "        except KeyError:\n",
    "            continue\n",
    "        continue\n",
    "\n",
    "spam_absence = dict(sorted(spam_absence.items(), reverse=True, key=lambda x: x[1]))\n",
    "\n",
    "for word in list(spam_absence)[:10]:\n",
    "    print(\"Word: '{}', appears {} times.\".format(word, spam_absence[word]))"
   ]
  },
  {
   "cell_type": "markdown",
   "metadata": {},
   "source": [
    "#### 3. List the 10 words whose presence most strongly predicts that the mail is spam."
   ]
  },
  {
   "cell_type": "code",
   "execution_count": 20,
   "metadata": {},
   "outputs": [
    {
     "name": "stdout",
     "output_type": "stream",
     "text": [
      "Word: '_', appears 13556 times.\n",
      "Word: 'the', appears 8975 times.\n",
      "Word: 'to', appears 8165 times.\n",
      "Word: 'and', appears 6517 times.\n",
      "Word: 'of', appears 5629 times.\n",
      "Word: 'you', appears 4920 times.\n",
      "Word: 'a', appears 4695 times.\n",
      "Word: 'in', appears 3879 times.\n",
      "Word: 'your', appears 3730 times.\n",
      "Word: 'for', appears 3186 times.\n"
     ]
    }
   ],
   "source": [
    "for word in list(spam_bow)[:10]:\n",
    "    print(\"Word: '{}', appears {} times.\".format(word, spam_bow[word]))"
   ]
  },
  {
   "cell_type": "markdown",
   "metadata": {},
   "source": [
    "#### 4. List the 10 words whose absence most strongly predicts that the mail is spam."
   ]
  },
  {
   "cell_type": "code",
   "execution_count": 21,
   "metadata": {},
   "outputs": [
    {
     "name": "stdout",
     "output_type": "stream",
     "text": [
      "Word: 'the', appears 32160 times.\n",
      "Word: 'to', appears 25406 times.\n",
      "Word: 'and', appears 14444 times.\n",
      "Word: 'i', appears 13877 times.\n",
      "Word: 'enron', appears 13382 times.\n",
      "Word: 'of', appears 12499 times.\n",
      "Word: 'ect', appears 11416 times.\n",
      "Word: 'a', appears 10555 times.\n",
      "Word: 'for', appears 10324 times.\n",
      "Word: 'in', appears 10217 times.\n"
     ]
    }
   ],
   "source": [
    "ham_absence = {}\n",
    "for i in ham_bow:\n",
    "    try:\n",
    "        ham_absence[i] = ham_bow[i] - spam_bow[i] # words with the highest occurance in ham_bow and lowest occurance in spam_bow\n",
    "    except KeyError: # word does not exist in spam_bow and ham_bow at the same time\n",
    "        try: # word still may exist in ham_bow\n",
    "            ham_absence[i] = ham_bow[i]\n",
    "        except KeyError:\n",
    "            continue\n",
    "        continue\n",
    "\n",
    "ham_absence = dict(sorted(ham_absence.items(), reverse=True, key=lambda x: x[1]))\n",
    "\n",
    "for word in list(ham_absence)[:10]:\n",
    "    print(\"Word: '{}', appears {} times.\".format(word, ham_absence[word]))"
   ]
  },
  {
   "cell_type": "markdown",
   "metadata": {},
   "source": [
    "#### TFIDF"
   ]
  },
  {
   "cell_type": "code",
   "execution_count": 22,
   "metadata": {},
   "outputs": [
    {
     "name": "stdout",
     "output_type": "stream",
     "text": [
      "              precision    recall  f1-score   support\n",
      "\n",
      "           0       0.80      1.00      0.89       872\n",
      "           1       0.93      0.19      0.32       274\n",
      "\n",
      "    accuracy                           0.80      1146\n",
      "   macro avg       0.86      0.59      0.60      1146\n",
      "weighted avg       0.83      0.80      0.75      1146\n",
      "\n"
     ]
    }
   ],
   "source": [
    "tfidf_pred = naive_bayes(train_df, test_df, tfidf=True)\n",
    "print(classification_report(y_test, tfidf_pred))"
   ]
  },
  {
   "cell_type": "markdown",
   "metadata": {},
   "source": [
    "### (b) Stopwords"
   ]
  },
  {
   "cell_type": "code",
   "execution_count": 23,
   "metadata": {},
   "outputs": [
    {
     "name": "stdout",
     "output_type": "stream",
     "text": [
      "0    872\n",
      "1    274\n",
      "Name: spam, dtype: int64\n",
      "0    1089\n",
      "1      57\n",
      "dtype: int64\n"
     ]
    }
   ],
   "source": [
    "print(y_test.value_counts())\n",
    "print(pd.DataFrame(tfidf_pred).value_counts())"
   ]
  },
  {
   "cell_type": "markdown",
   "metadata": {},
   "source": [
    "#### 1. List the 10 words whose presence most strongly predicts that the mail is ham."
   ]
  },
  {
   "cell_type": "code",
   "execution_count": 24,
   "metadata": {},
   "outputs": [
    {
     "name": "stdout",
     "output_type": "stream",
     "text": [
      "Word: 'enron', appears 13382 times.\n",
      "Word: 'ect', appears 11417 times.\n",
      "Word: 'vince', appears 8531 times.\n",
      "Word: 'hou', appears 5569 times.\n",
      "Word: 's', appears 5173 times.\n",
      "Word: '2000', appears 4935 times.\n",
      "Word: 'kaminski', appears 4770 times.\n",
      "Word: 'com', appears 4444 times.\n",
      "Word: 'subject', appears 4245 times.\n",
      "Word: 'cc', appears 3889 times.\n"
     ]
    }
   ],
   "source": [
    "for word in list(ham_bow_without_stopwords)[:10]:\n",
    "    print(\"Word: '{}', appears {} times.\".format(word, ham_bow_without_stopwords[word]))"
   ]
  },
  {
   "cell_type": "markdown",
   "metadata": {},
   "source": [
    "#### 2. List the 10 words whose presence most strongly predicts that the mail is spam."
   ]
  },
  {
   "cell_type": "code",
   "execution_count": 25,
   "metadata": {},
   "outputs": [
    {
     "name": "stdout",
     "output_type": "stream",
     "text": [
      "Word: '_', appears 13556 times.\n",
      "Word: 's', appears 1333 times.\n",
      "Word: 'com', appears 998 times.\n",
      "Word: '1', appears 952 times.\n",
      "Word: 'business', appears 844 times.\n",
      "Word: 'company', appears 805 times.\n",
      "Word: 'email', appears 804 times.\n",
      "Word: 'information', appears 740 times.\n",
      "Word: 'e', appears 698 times.\n",
      "Word: '5', appears 687 times.\n"
     ]
    }
   ],
   "source": [
    "for word in list(spam_bow_without_stopwords)[:10]:\n",
    "    print(\"Word: '{}', appears {} times.\".format(word, spam_bow_without_stopwords[word]))"
   ]
  },
  {
   "cell_type": "markdown",
   "metadata": {},
   "source": [
    "### (c) Analyzing effect of the stopwords"
   ]
  },
  {
   "cell_type": "markdown",
   "metadata": {},
   "source": [
    "We should definitely remove stopwords as it increases accuracy a lot."
   ]
  },
  {
   "cell_type": "markdown",
   "metadata": {},
   "source": [
    "#### Unigram BoW without Stopwords"
   ]
  },
  {
   "cell_type": "markdown",
   "metadata": {},
   "source": [
    "Without removing stopwords, accuracy was 84%. Now it is 97%."
   ]
  },
  {
   "cell_type": "code",
   "execution_count": 26,
   "metadata": {},
   "outputs": [
    {
     "name": "stdout",
     "output_type": "stream",
     "text": [
      "              precision    recall  f1-score   support\n",
      "\n",
      "           0       0.96      1.00      0.98       872\n",
      "           1       1.00      0.88      0.94       274\n",
      "\n",
      "    accuracy                           0.97      1146\n",
      "   macro avg       0.98      0.94      0.96      1146\n",
      "weighted avg       0.97      0.97      0.97      1146\n",
      "\n"
     ]
    }
   ],
   "source": [
    "unigram_y_pred_without_stopwords = naive_bayes(train_df, test_df, filter_stopwords=True)\n",
    "print(classification_report(y_test, unigram_y_pred_without_stopwords))"
   ]
  },
  {
   "cell_type": "markdown",
   "metadata": {},
   "source": [
    "#### Bigram BoW without Stopwords"
   ]
  },
  {
   "cell_type": "markdown",
   "metadata": {},
   "source": [
    "Bigram accuracy was low before removing the stopwords. It is still low, 24%."
   ]
  },
  {
   "cell_type": "code",
   "execution_count": 27,
   "metadata": {},
   "outputs": [
    {
     "name": "stdout",
     "output_type": "stream",
     "text": [
      "              precision    recall  f1-score   support\n",
      "\n",
      "           0       1.00      0.24      0.39       872\n",
      "           1       0.29      1.00      0.45       274\n",
      "\n",
      "    accuracy                           0.42      1146\n",
      "   macro avg       0.65      0.62      0.42      1146\n",
      "weighted avg       0.83      0.42      0.40      1146\n",
      "\n"
     ]
    }
   ],
   "source": [
    "bigram_y_pred_without_stopwords = naive_bayes(train_df, test_df, gram=\"bigram\", filter_stopwords=True)\n",
    "print(classification_report(y_test, bigram_y_pred_without_stopwords))"
   ]
  },
  {
   "cell_type": "markdown",
   "metadata": {},
   "source": [
    "## Part 4"
   ]
  },
  {
   "cell_type": "code",
   "execution_count": 28,
   "metadata": {},
   "outputs": [],
   "source": [
    "from sklearn.metrics import confusion_matrix\n",
    "import seaborn as sns"
   ]
  },
  {
   "cell_type": "code",
   "execution_count": 29,
   "metadata": {},
   "outputs": [],
   "source": [
    "def plot_cf(cf_matrix):\n",
    "    group_names = [\"True Neg\", \"False Pos\", \"False Neg\", \"True Pos\"]\n",
    "    group_counts = [\"{0:0.0f}\".format(value) for value in cf_matrix.flatten()]\n",
    "    group_percentages = [\"{0:.2%}\".format(value) for value in cf_matrix.flatten()/np.sum(cf_matrix)]\n",
    "    labels = [f\"{v1}\\n{v2}\\n{v3}\" for v1, v2, v3 in zip(group_names,group_counts,group_percentages)]\n",
    "    labels = np.asarray(labels).reshape(2,2)\n",
    "    sns.heatmap(cf_matrix, annot=labels, fmt=\"\", cmap='Blues')"
   ]
  },
  {
   "cell_type": "markdown",
   "metadata": {},
   "source": [
    "Performance Metrics were presented in the sections before. Overall best model is Unigram BoW without Stopwords. Bigram results are awful. But we present both for you to see."
   ]
  },
  {
   "cell_type": "markdown",
   "metadata": {},
   "source": [
    "ex. \"hello my name is inigo montoya\"<br>\n",
    "unigram = [\"hello\", \"my\", \"name\", \"is\", \"inigo\", \"montoya\"]<br>\n",
    "bigram = [\"hello my\", \"my name\", \"name is\", \"is inigio\", \"inigo montoya\"]<br>"
   ]
  },
  {
   "cell_type": "markdown",
   "metadata": {},
   "source": [
    "#### Unigram BoW"
   ]
  },
  {
   "cell_type": "code",
   "execution_count": 30,
   "metadata": {},
   "outputs": [
    {
     "name": "stdout",
     "output_type": "stream",
     "text": [
      "              precision    recall  f1-score   support\n",
      "\n",
      "           0       0.82      1.00      0.90       872\n",
      "           1       1.00      0.32      0.49       274\n",
      "\n",
      "    accuracy                           0.84      1146\n",
      "   macro avg       0.91      0.66      0.69      1146\n",
      "weighted avg       0.87      0.84      0.80      1146\n",
      "\n"
     ]
    },
    {
     "data": {
      "image/png": "[encoded data removed]",
      "text/plain": [
       "<Figure size 432x288 with 2 Axes>"
      ]
     },
     "metadata": {
      "needs_background": "light"
     },
     "output_type": "display_data"
    }
   ],
   "source": [
    "print(classification_report(y_test, unigram_y_pred))\n",
    "plot_cf(confusion_matrix(y_test, unigram_y_pred))"
   ]
  },
  {
   "cell_type": "markdown",
   "metadata": {},
   "source": [
    "#### Unigram BoW without Stopwords"
   ]
  },
  {
   "cell_type": "code",
   "execution_count": 31,
   "metadata": {},
   "outputs": [
    {
     "name": "stdout",
     "output_type": "stream",
     "text": [
      "              precision    recall  f1-score   support\n",
      "\n",
      "           0       0.96      1.00      0.98       872\n",
      "           1       1.00      0.88      0.94       274\n",
      "\n",
      "    accuracy                           0.97      1146\n",
      "   macro avg       0.98      0.94      0.96      1146\n",
      "weighted avg       0.97      0.97      0.97      1146\n",
      "\n"
     ]
    },
    {
     "data": {
      "image/png": "[encoded data removed]",
      "text/plain": [
       "<Figure size 432x288 with 2 Axes>"
      ]
     },
     "metadata": {
      "needs_background": "light"
     },
     "output_type": "display_data"
    }
   ],
   "source": [
    "print(classification_report(y_test, unigram_y_pred_without_stopwords))\n",
    "plot_cf(confusion_matrix(y_test, unigram_y_pred_without_stopwords))"
   ]
  },
  {
   "cell_type": "markdown",
   "metadata": {},
   "source": [
    "#### Bigram BoW"
   ]
  },
  {
   "cell_type": "code",
   "execution_count": 32,
   "metadata": {},
   "outputs": [
    {
     "name": "stdout",
     "output_type": "stream",
     "text": [
      "              precision    recall  f1-score   support\n",
      "\n",
      "           0       1.00      0.90      0.95       872\n",
      "           1       0.75      1.00      0.86       274\n",
      "\n",
      "    accuracy                           0.92      1146\n",
      "   macro avg       0.88      0.95      0.90      1146\n",
      "weighted avg       0.94      0.92      0.93      1146\n",
      "\n"
     ]
    },
    {
     "data": {
      "image/png": "[encoded data removed]",
      "text/plain": [
       "<Figure size 432x288 with 2 Axes>"
      ]
     },
     "metadata": {
      "needs_background": "light"
     },
     "output_type": "display_data"
    }
   ],
   "source": [
    "print(classification_report(y_test, bigram_y_pred))\n",
    "plot_cf(confusion_matrix(y_test, bigram_y_pred))"
   ]
  },
  {
   "cell_type": "markdown",
   "metadata": {},
   "source": [
    "#### Bigram BoW without Stopwords"
   ]
  },
  {
   "cell_type": "code",
   "execution_count": 33,
   "metadata": {},
   "outputs": [
    {
     "name": "stdout",
     "output_type": "stream",
     "text": [
      "              precision    recall  f1-score   support\n",
      "\n",
      "           0       1.00      0.24      0.39       872\n",
      "           1       0.29      1.00      0.45       274\n",
      "\n",
      "    accuracy                           0.42      1146\n",
      "   macro avg       0.65      0.62      0.42      1146\n",
      "weighted avg       0.83      0.42      0.40      1146\n",
      "\n"
     ]
    },
    {
     "data": {
      "image/png": "[encoded data removed]",
      "text/plain": [
       "<Figure size 432x288 with 2 Axes>"
      ]
     },
     "metadata": {
      "needs_background": "light"
     },
     "output_type": "display_data"
    }
   ],
   "source": [
    "print(classification_report(y_test, bigram_y_pred_without_stopwords))\n",
    "plot_cf(confusion_matrix(y_test, bigram_y_pred_without_stopwords))"
   ]
  },
  {
   "cell_type": "markdown",
   "metadata": {},
   "source": [
    "#### TF-IDF"
   ]
  },
  {
   "cell_type": "code",
   "execution_count": 34,
   "metadata": {},
   "outputs": [
    {
     "name": "stdout",
     "output_type": "stream",
     "text": [
      "              precision    recall  f1-score   support\n",
      "\n",
      "           0       0.80      1.00      0.89       872\n",
      "           1       0.93      0.19      0.32       274\n",
      "\n",
      "    accuracy                           0.80      1146\n",
      "   macro avg       0.86      0.59      0.60      1146\n",
      "weighted avg       0.83      0.80      0.75      1146\n",
      "\n"
     ]
    },
    {
     "data": {
      "image/png": "[encoded data removed]",
      "text/plain": [
       "<Figure size 432x288 with 2 Axes>"
      ]
     },
     "metadata": {
      "needs_background": "light"
     },
     "output_type": "display_data"
    }
   ],
   "source": [
    "print(classification_report(y_test, tfidf_pred))\n",
    "plot_cf(confusion_matrix(y_test, tfidf_pred))"
   ]
  }
 ],
 "metadata": {
  "interpreter": {
   "hash": "425c82cb9366449f7d943cae9a015fb2ebaeccc82ca80e292444a169b2f5c532"
  },
  "kernelspec": {
   "display_name": "Python 3.8.5 64-bit ('bbm409_assignment3': conda)",
   "language": "python",
   "name": "python3"
  },
  "language_info": {
   "codemirror_mode": {
    "name": "ipython",
    "version": 3
   },
   "file_extension": ".py",
   "mimetype": "text/x-python",
   "name": "python",
   "nbconvert_exporter": "python",
   "pygments_lexer": "ipython3",
   "version": "3.7.0"
  },
  "orig_nbformat": 4
 },
 "nbformat": 4,
 "nbformat_minor": 2
}
